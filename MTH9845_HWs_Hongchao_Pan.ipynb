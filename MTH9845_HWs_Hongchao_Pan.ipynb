{
 "cells": [
  {
   "cell_type": "markdown",
   "metadata": {},
   "source": [
    "## HW1"
   ]
  },
  {
   "cell_type": "markdown",
   "metadata": {},
   "source": [
    "$$A=Q \\Lambda Q^T $$\n",
    "\n",
    "$$ Q$$\n",
    "\n",
    "$$ \\Lambda$$\n",
    "\n",
    "$$Q^T$$"
   ]
  },
  {
   "cell_type": "markdown",
   "metadata": {
    "collapsed": true
   },
   "source": [
    "$$ Av_1 = \\lambda_1 v_1$$\n",
    "\n",
    "$$ Av_1$$\n",
    "\n",
    "$$ \\lambda_1 v_1 $$\n",
    "\n"
   ]
  },
  {
   "cell_type": "markdown",
   "metadata": {
    "collapsed": true
   },
   "source": [
    "$$ Q\\sqrt{\\Lambda} $$"
   ]
  },
  {
   "cell_type": "markdown",
   "metadata": {},
   "source": [
    "$$ Y=X^T \\beta +\\epsilon $$"
   ]
  },
  {
   "cell_type": "markdown",
   "metadata": {
    "collapsed": true
   },
   "source": [
    "## HW2"
   ]
  },
  {
   "cell_type": "markdown",
   "metadata": {},
   "source": [
    "$X_t=\\alpha+\\beta X_{t-1}+\\epsilon_t$\n",
    "\n",
    "\n",
    "$\\epsilon_t \\sim N(\\mu,\\sigma^2)$"
   ]
  },
  {
   "cell_type": "markdown",
   "metadata": {},
   "source": [
    "$\\mathbb{E}(X_t)=\\frac{\\alpha}{1-\\beta}$\n",
    "\n",
    "$\\sigma_{X_t}=\\sqrt{\\frac{\\sigma^2}{1-\\beta^2} }$"
   ]
  },
  {
   "cell_type": "markdown",
   "metadata": {
    "collapsed": true
   },
   "source": [
    "$S_t=S_{t-1}+\\lambda(\\mu-S_{t-1})+\\sigma \\sqrt{\\delta} N_{0,1}$"
   ]
  },
  {
   "cell_type": "markdown",
   "metadata": {},
   "source": [
    "$S_t=S_0 e^{-\\lambda \\delta} +\\mu (1-e^{-\\lambda \\delta})+\\sigma \\sqrt{\\frac{1-e^{-2\\lambda\\delta}}{2\\lambda}}N_{0,1}$"
   ]
  },
  {
   "cell_type": "markdown",
   "metadata": {
    "collapsed": true
   },
   "source": [
    "$\\Delta_{k+5}$"
   ]
  },
  {
   "cell_type": "markdown",
   "metadata": {},
   "source": [
    "0.2$\\Delta_{k+5}$\n",
    "\n",
    "\n",
    "$0.8\\theta^2$\n",
    "\n",
    "$e_i$"
   ]
  },
  {
   "cell_type": "markdown",
   "metadata": {},
   "source": [
    "$\\Delta_{k+32}$\n",
    "\n",
    "$\\frac{1}{32}\\Delta_{k+32}$\n",
    "\n",
    "\n",
    "$\\left(1-\\frac{1}{32}\\right) \\theta^2$"
   ]
  },
  {
   "cell_type": "code",
   "execution_count": 1,
   "metadata": {
    "collapsed": false
   },
   "outputs": [
    {
     "data": {
      "text/plain": [
       "0.03125"
      ]
     },
     "execution_count": 1,
     "metadata": {},
     "output_type": "execute_result"
    }
   ],
   "source": [
    "1/32"
   ]
  },
  {
   "cell_type": "code",
   "execution_count": null,
   "metadata": {
    "collapsed": true
   },
   "outputs": [],
   "source": []
  }
 ],
 "metadata": {
  "kernelspec": {
   "display_name": "Python [conda root]",
   "language": "python",
   "name": "conda-root-py"
  },
  "language_info": {
   "codemirror_mode": {
    "name": "ipython",
    "version": 3
   },
   "file_extension": ".py",
   "mimetype": "text/x-python",
   "name": "python",
   "nbconvert_exporter": "python",
   "pygments_lexer": "ipython3",
   "version": "3.5.2"
  }
 },
 "nbformat": 4,
 "nbformat_minor": 2
}
